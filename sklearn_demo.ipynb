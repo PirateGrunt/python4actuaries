{
  "nbformat": 4,
  "nbformat_minor": 0,
  "metadata": {
    "colab": {
      "name": "sklearn demo.ipynb",
      "version": "0.3.2",
      "provenance": [],
      "collapsed_sections": [],
      "toc_visible": true
    },
    "kernelspec": {
      "display_name": "Python 3",
      "language": "python",
      "name": "python3"
    }
  },
  "cells": [
    {
      "metadata": {
        "slideshow": {
          "slide_type": "slide"
        },
        "id": "RTFJZK_B_yCg",
        "colab_type": "text"
      },
      "cell_type": "markdown",
      "source": [
        "# Machine Learning in Python using Scikit-Learn"
      ]
    },
    {
      "metadata": {
        "slideshow": {
          "slide_type": "slide"
        },
        "id": "hqogk1N0_yCm",
        "colab_type": "text"
      },
      "cell_type": "markdown",
      "source": [
        "## The Problem:\n",
        "### Can we identify the Line of Business of loss data from a loss triangle?\n",
        "\n",
        "*This notebook is inspired by a talk by Clark, Ranglova and Oda at the 2017 CLRS*"
      ]
    },
    {
      "metadata": {
        "slideshow": {
          "slide_type": "slide"
        },
        "id": "ztp71ub2_yCs",
        "colab_type": "text"
      },
      "cell_type": "markdown",
      "source": [
        "\n",
        "## The Dataset\n",
        "\n",
        "* CAS Loss Reserve Database for Workers' Compensation, Medical Malpractice, and Private Passenger Auto\n",
        "* Top 19 companies with remainder of industry as 20th observation\n",
        "* Volume-weighted LDFs generated"
      ]
    },
    {
      "metadata": {
        "slideshow": {
          "slide_type": "fragment"
        },
        "id": "jQT_1XxZ_yCw",
        "colab_type": "code",
        "colab": {
          "base_uri": "https://localhost:8080/",
          "height": 235
        },
        "outputId": "d4a17dd1-d74d-4724-a1b2-ab31c55853f6"
      },
      "cell_type": "code",
      "source": [
        "import pandas as pd\n",
        "ldf = pd.read_csv(\n",
        "    r'https://raw.githubusercontent.com/PirateGrunt/paw_rpm/master/notebooks/assets/links.csv',\n",
        "    index_col=['GRNAME','LOB'])\n",
        "ldf.head()"
      ],
      "execution_count": 1,
      "outputs": [
        {
          "output_type": "execute_result",
          "data": {
            "text/html": [
              "<div>\n",
              "<style scoped>\n",
              "    .dataframe tbody tr th:only-of-type {\n",
              "        vertical-align: middle;\n",
              "    }\n",
              "\n",
              "    .dataframe tbody tr th {\n",
              "        vertical-align: top;\n",
              "    }\n",
              "\n",
              "    .dataframe thead th {\n",
              "        text-align: right;\n",
              "    }\n",
              "</style>\n",
              "<table border=\"1\" class=\"dataframe\">\n",
              "  <thead>\n",
              "    <tr style=\"text-align: right;\">\n",
              "      <th></th>\n",
              "      <th></th>\n",
              "      <th>1-2</th>\n",
              "      <th>2-3</th>\n",
              "      <th>3-4</th>\n",
              "      <th>4-5</th>\n",
              "      <th>5-6</th>\n",
              "      <th>6-7</th>\n",
              "      <th>7-8</th>\n",
              "      <th>8-9</th>\n",
              "      <th>9-10</th>\n",
              "    </tr>\n",
              "    <tr>\n",
              "      <th>GRNAME</th>\n",
              "      <th>LOB</th>\n",
              "      <th></th>\n",
              "      <th></th>\n",
              "      <th></th>\n",
              "      <th></th>\n",
              "      <th></th>\n",
              "      <th></th>\n",
              "      <th></th>\n",
              "      <th></th>\n",
              "      <th></th>\n",
              "    </tr>\n",
              "  </thead>\n",
              "  <tbody>\n",
              "    <tr>\n",
              "      <th>Alaska Nat Ins Co</th>\n",
              "      <th>wkcomp</th>\n",
              "      <td>2.042044</td>\n",
              "      <td>1.204090</td>\n",
              "      <td>1.078956</td>\n",
              "      <td>1.039735</td>\n",
              "      <td>1.019448</td>\n",
              "      <td>1.014162</td>\n",
              "      <td>1.007755</td>\n",
              "      <td>1.006170</td>\n",
              "      <td>1.001740</td>\n",
              "    </tr>\n",
              "    <tr>\n",
              "      <th>Allstate Ins Co Grp</th>\n",
              "      <th>wkcomp</th>\n",
              "      <td>2.222958</td>\n",
              "      <td>1.337730</td>\n",
              "      <td>1.158433</td>\n",
              "      <td>1.092734</td>\n",
              "      <td>1.058643</td>\n",
              "      <td>1.045544</td>\n",
              "      <td>1.031408</td>\n",
              "      <td>1.036089</td>\n",
              "      <td>1.010920</td>\n",
              "    </tr>\n",
              "    <tr>\n",
              "      <th>Amerisafe Grp</th>\n",
              "      <th>wkcomp</th>\n",
              "      <td>2.083829</td>\n",
              "      <td>1.230349</td>\n",
              "      <td>1.049066</td>\n",
              "      <td>1.015398</td>\n",
              "      <td>1.011420</td>\n",
              "      <td>1.006666</td>\n",
              "      <td>1.007410</td>\n",
              "      <td>1.011116</td>\n",
              "      <td>1.013069</td>\n",
              "    </tr>\n",
              "    <tr>\n",
              "      <th>Associated Industries Ins Co</th>\n",
              "      <th>wkcomp</th>\n",
              "      <td>2.108629</td>\n",
              "      <td>1.353189</td>\n",
              "      <td>1.184505</td>\n",
              "      <td>1.078169</td>\n",
              "      <td>0.974303</td>\n",
              "      <td>1.034001</td>\n",
              "      <td>1.042462</td>\n",
              "      <td>1.042313</td>\n",
              "      <td>1.012176</td>\n",
              "    </tr>\n",
              "    <tr>\n",
              "      <th>Beacon Mut Ins Co</th>\n",
              "      <th>wkcomp</th>\n",
              "      <td>2.245266</td>\n",
              "      <td>1.342916</td>\n",
              "      <td>1.156806</td>\n",
              "      <td>1.089594</td>\n",
              "      <td>1.000000</td>\n",
              "      <td>1.000000</td>\n",
              "      <td>1.000000</td>\n",
              "      <td>1.000000</td>\n",
              "      <td>1.000000</td>\n",
              "    </tr>\n",
              "  </tbody>\n",
              "</table>\n",
              "</div>"
            ],
            "text/plain": [
              "                                          1-2       2-3       3-4       4-5  \\\n",
              "GRNAME                       LOB                                              \n",
              "Alaska Nat Ins Co            wkcomp  2.042044  1.204090  1.078956  1.039735   \n",
              "Allstate Ins Co Grp          wkcomp  2.222958  1.337730  1.158433  1.092734   \n",
              "Amerisafe Grp                wkcomp  2.083829  1.230349  1.049066  1.015398   \n",
              "Associated Industries Ins Co wkcomp  2.108629  1.353189  1.184505  1.078169   \n",
              "Beacon Mut Ins Co            wkcomp  2.245266  1.342916  1.156806  1.089594   \n",
              "\n",
              "                                          5-6       6-7       7-8       8-9  \\\n",
              "GRNAME                       LOB                                              \n",
              "Alaska Nat Ins Co            wkcomp  1.019448  1.014162  1.007755  1.006170   \n",
              "Allstate Ins Co Grp          wkcomp  1.058643  1.045544  1.031408  1.036089   \n",
              "Amerisafe Grp                wkcomp  1.011420  1.006666  1.007410  1.011116   \n",
              "Associated Industries Ins Co wkcomp  0.974303  1.034001  1.042462  1.042313   \n",
              "Beacon Mut Ins Co            wkcomp  1.000000  1.000000  1.000000  1.000000   \n",
              "\n",
              "                                         9-10  \n",
              "GRNAME                       LOB               \n",
              "Alaska Nat Ins Co            wkcomp  1.001740  \n",
              "Allstate Ins Co Grp          wkcomp  1.010920  \n",
              "Amerisafe Grp                wkcomp  1.013069  \n",
              "Associated Industries Ins Co wkcomp  1.012176  \n",
              "Beacon Mut Ins Co            wkcomp  1.000000  "
            ]
          },
          "metadata": {
            "tags": []
          },
          "execution_count": 1
        }
      ]
    },
    {
      "metadata": {
        "slideshow": {
          "slide_type": "slide"
        },
        "id": "ayQm5gV__yDL",
        "colab_type": "text"
      },
      "cell_type": "markdown",
      "source": [
        "# What is Scikit-Learn?\n",
        "\n",
        "**Machine Learning in Python**\n",
        "\n",
        "* Simple and efficient tools for data mining and data analysis\n",
        "* Accessible to everybody, and reusable in various contexts\n",
        "* Built on NumPy, SciPy, and matplotlib\n",
        "* Open source, commercially usable - BSD license\n"
      ]
    },
    {
      "metadata": {
        "slideshow": {
          "slide_type": "slide"
        },
        "id": "cdsWnuiE_yDT",
        "colab_type": "text"
      },
      "cell_type": "markdown",
      "source": [
        "#### scikit-learn covers the majority of supervised and unsupervised ML techniques available today and  is continually expanding\n",
        "![](https://scikit-learn.org/stable/_static/ml_map.png)"
      ]
    },
    {
      "metadata": {
        "slideshow": {
          "slide_type": "slide"
        },
        "id": "cdWCyXVn_yDZ",
        "colab_type": "text"
      },
      "cell_type": "markdown",
      "source": [
        "##### It's all about the API\n",
        "\n",
        "`sklearn` is the defacto standard Machine Learning API for Python.  Other libraries yield to the simplicity of its API. \n",
        "\n",
        "\n",
        "* Want to do some Keras Deep learning?  No problem, just use `keras.wrappers.scikit_learn`\n",
        "* XGBoost anyone?  Use: `xgboost.sklearn`\n",
        "* Don't want to learn the syntax for the Light GBM? `lightgbm.sklearn` to the rescue.\n",
        "* Natural langauge processing requires unique functionality, right? Nope, `nltk.classify.scikitlearn`\n"
      ]
    },
    {
      "metadata": {
        "slideshow": {
          "slide_type": "slide"
        },
        "id": "iTbptdVU_yDh",
        "colab_type": "text"
      },
      "cell_type": "markdown",
      "source": [
        "##### Scikit-learn is a consistent API for all Machine Learning Algorithms\n",
        "\n",
        "Estimators are the building block of scikit-learn.  Almost everything is an estimator.  All estimators have `fit()` methods. Most have either a `predict()` or `transform()` method. Supervised techniques generally have a `score()` method as well.\n",
        "\n",
        "The basic ML workflow looks like this:\n",
        "```python\n",
        "from sklearn.EstimatorFamily import Estimator\n",
        "est = Estimator(hyperparameter_1, ... ,hyperparameter_n) # Create a model\n",
        "est.fit(X_train, y_train) # Fit the model\n",
        "est.score(X_test, y_test) # Evaluate model efficacy\n",
        "est.predict(X_test) # Create predictions\n",
        "```"
      ]
    },
    {
      "metadata": {
        "slideshow": {
          "slide_type": "slide"
        },
        "id": "0AgRFDNh_yDr",
        "colab_type": "text"
      },
      "cell_type": "markdown",
      "source": [
        "##### Importing your estimators\n",
        "`from sklearn.EstimatorFamily import Estimator` is typically how you'd import an estimator.  Some examples are:\n",
        "``` python\n",
        "from sklearn.linear_model import RidgeRegression\n",
        "from sklearn.ensemble import RandomForestRegressor, GradientBoostingClassifier\n",
        "from sklearn.naive_bayes import GaussianNB\n",
        "from sklearn.cluster import KMeans\n",
        "from sklearn.neighbors import KNeighborsClassifier\n",
        "```"
      ]
    },
    {
      "metadata": {
        "slideshow": {
          "slide_type": "skip"
        },
        "id": "7gLVTkDa_yDz",
        "colab_type": "code",
        "colab": {}
      },
      "cell_type": "code",
      "source": [
        "from sklearn.neighbors import KNeighborsClassifier"
      ],
      "execution_count": 0,
      "outputs": []
    },
    {
      "metadata": {
        "slideshow": {
          "slide_type": "slide"
        },
        "id": "OTcB27Jh_yEH",
        "colab_type": "text"
      },
      "cell_type": "markdown",
      "source": [
        "##### Hyperparameters of your estimarors (Controlling how your estimator fits)\n",
        "Instantiating an estimator typically looks like `est = Estimator(hyperparameter_1, ... ,hyperparameter_n)`.\n",
        "Upon instantition you have the *option* of setting hyperparameters (i.e. parameters whose values are set before the learning process).  All hyperparameters have defaults that may or may not be satisfactory for your particular problem.\n",
        "\n",
        "Exmaples of setting initial hyperparameters on an estimator:\n",
        "```python\n",
        "rr = RidgeRegression(alpha=0.5, fit_intercept=False, normalize=True)\n",
        "knc = KNeighborsClassifier(n_neighbors=10)\n",
        "gbc = GradientBoostingClassifier()\n",
        "```"
      ]
    },
    {
      "metadata": {
        "slideshow": {
          "slide_type": "slide"
        },
        "id": "_kDX9_9N_yEM",
        "colab_type": "text"
      },
      "cell_type": "markdown",
      "source": [
        "##### Transformers - a special kind of estimator\n",
        "Several `sklearn` estimators implement a `transform()` method.  Transformers are typically used to 'transform' your featureset in a way that will improve another algorithms (e.g. regressor, classifier) performance.\n",
        "\n",
        "Typical examples include:\n",
        "```python\n",
        "sklearn.preprocessing.PCA # Principle Components transformation\n",
        "sklearn.preprocessing.OneHotEncoder # Categorical to dummy transformation\n",
        "sklearn.preprocessing.StandardScaler # Removing the mean and scaling to unit variance for each feature\n",
        "sklearn.preprocessing.LabelEncoder # Single-column label to integer tranformation\n",
        "```"
      ]
    },
    {
      "metadata": {
        "slideshow": {
          "slide_type": "skip"
        },
        "id": "PCzaVTox_yER",
        "colab_type": "code",
        "colab": {
          "base_uri": "https://localhost:8080/",
          "height": 34
        },
        "outputId": "79d5fa10-5ca8-4b46-a8d0-0ccd476c66c5"
      },
      "cell_type": "code",
      "source": [
        "from sklearn.preprocessing import LabelEncoder\n",
        "le = LabelEncoder()\n",
        "response = ldf.index.get_level_values('LOB')\n",
        "le.fit(response)"
      ],
      "execution_count": 3,
      "outputs": [
        {
          "output_type": "execute_result",
          "data": {
            "text/plain": [
              "LabelEncoder()"
            ]
          },
          "metadata": {
            "tags": []
          },
          "execution_count": 3
        }
      ]
    },
    {
      "metadata": {
        "slideshow": {
          "slide_type": "slide"
        },
        "id": "t6O9jmrE_yE-",
        "colab_type": "text"
      },
      "cell_type": "markdown",
      "source": [
        "##### Mutating the Estimator with fit()\n",
        "Though it looks like nothing happened, a lot happened under the hood.  Our estimator has seen data can now be applied to new datasets.  Once an estimator is fit, it spin off useful metadata that describes the fit model.  `sklearn` uses a trailing underscore in property names to help users distinguish between hyperparameters and the new metadata.\n",
        "```python\n",
        "from sklearn.linear_model import LinearRegression\n",
        "lr = LinearRegression(fit_intercept=False)\n",
        "lr.fit(X, y)\n",
        "print(lr.fit_intercept) # A hyperparameter.  Returns False.\n",
        "print(lr.coef_) # Trailing underscore denotes the property comes from a 'fit'.  Returns model coefficients.\n",
        "```\n",
        "\n",
        "Additionally the predict, transform, and score methods (if applicable) become available."
      ]
    },
    {
      "metadata": {
        "slideshow": {
          "slide_type": "skip"
        },
        "id": "bf0Dso38_yFF",
        "colab_type": "code",
        "colab": {
          "base_uri": "https://localhost:8080/",
          "height": 34
        },
        "outputId": "429e341b-1b77-4525-d05f-2ec5de9e6f3a"
      },
      "cell_type": "code",
      "source": [
        "le.classes_"
      ],
      "execution_count": 4,
      "outputs": [
        {
          "output_type": "execute_result",
          "data": {
            "text/plain": [
              "array(['medmal', 'ppauto', 'wkcomp'], dtype=object)"
            ]
          },
          "metadata": {
            "tags": []
          },
          "execution_count": 4
        }
      ]
    },
    {
      "metadata": {
        "slideshow": {
          "slide_type": "slide"
        },
        "id": "xfrpARv6_yFw",
        "colab_type": "text"
      },
      "cell_type": "markdown",
      "source": [
        "### Supervised Learning Example - Identifying the line of business of an unlabeled triangle\n",
        "We've computed the volume weighted development patterns of twenty companies for each line of business, `wkcomp`, `comauto`, and `ppauto` and want to use them to train a Machine Learning model that can identify the appropriate line of business.\n",
        "\n",
        "Defining this problem more concretely:<br>\n",
        "The LDFs are our featureset, **X**, and the known line of business is our response, **y**."
      ]
    },
    {
      "metadata": {
        "slideshow": {
          "slide_type": "skip"
        },
        "id": "mi2C9fSq_yF4",
        "colab_type": "code",
        "colab": {}
      },
      "cell_type": "code",
      "source": [
        "X = ldf.values\n",
        "y = le.transform(response)"
      ],
      "execution_count": 0,
      "outputs": []
    },
    {
      "metadata": {
        "slideshow": {
          "slide_type": "slide"
        },
        "id": "A1W1OrLg_yGD",
        "colab_type": "text"
      },
      "cell_type": "markdown",
      "source": [
        "##### Train/Test Split\n",
        "It is best practice in machine learning to evaluate models on a test set of data.  Since this is covered substantially in other literature, we will not go into the details of why here.  `sklearn` comes with several utilities to split data, but we will explore the simplest one.\n",
        "\n",
        "```python\n",
        "from sklearn.model_selection import train_test_split\n",
        "\n",
        "X_train, X_test, y_train, y_test = \\\n",
        "    train_test_split(X, y, test_size=0.33, random_state=42)\n",
        "```\n",
        "\n",
        "`train_test_split` returns a tuple of our features/response split into training and test sets. The `random_state` argument shows up in a lot of places in `sklearn`.  Generally, when there is a stochastic component to the `sklearn` component you are using, `random_state` is there to allow you to set a seed so that your work can be replicated."
      ]
    },
    {
      "metadata": {
        "slideshow": {
          "slide_type": "skip"
        },
        "id": "lI26DdvR_yGI",
        "colab_type": "code",
        "colab": {}
      },
      "cell_type": "code",
      "source": [
        "from sklearn.model_selection import train_test_split\n",
        "\n",
        "X_train, X_test, y_train, y_test = \\\n",
        "    train_test_split(X, y, test_size=0.33, random_state=42)"
      ],
      "execution_count": 0,
      "outputs": []
    },
    {
      "metadata": {
        "slideshow": {
          "slide_type": "slide"
        },
        "id": "cXReJjlP_yGW",
        "colab_type": "text"
      },
      "cell_type": "markdown",
      "source": [
        "##### Fitting our classifier\n",
        "Our data is in a numerical format, its been split, and now we are ready to do some Machine Learning.  \n",
        "\n",
        "Don't forget, when fitting any supervised learning technique, you must specify both your featureset and your response in the `fit` method."
      ]
    },
    {
      "metadata": {
        "slideshow": {
          "slide_type": "fragment"
        },
        "id": "EZYinCPj_yGf",
        "colab_type": "code",
        "colab": {
          "base_uri": "https://localhost:8080/",
          "height": 34
        },
        "outputId": "aa1df807-c1bc-43b3-8398-1d7e07d377f0"
      },
      "cell_type": "code",
      "source": [
        "model = KNeighborsClassifier()\n",
        "model.fit(X_train, y_train)\n",
        "model.score(X_test,y_test)"
      ],
      "execution_count": 7,
      "outputs": [
        {
          "output_type": "execute_result",
          "data": {
            "text/plain": [
              "0.85"
            ]
          },
          "metadata": {
            "tags": []
          },
          "execution_count": 7
        }
      ]
    },
    {
      "metadata": {
        "slideshow": {
          "slide_type": "slide"
        },
        "id": "8aBrUbmC_yG0",
        "colab_type": "text"
      },
      "cell_type": "markdown",
      "source": [
        "##### Trying another classifier\n",
        "Remember the `sklearn` API was designed to make using different algorithms as consistent as possible. This means the same code should require minimal changes when applied to another classifier."
      ]
    },
    {
      "metadata": {
        "slideshow": {
          "slide_type": "fragment"
        },
        "id": "Tbx_cWr9_yG4",
        "colab_type": "code",
        "colab": {
          "base_uri": "https://localhost:8080/",
          "height": 119
        },
        "outputId": "8809b73e-4547-4342-9024-712c7e6dc48f"
      },
      "cell_type": "code",
      "source": [
        "from sklearn.ensemble import RandomForestClassifier, GradientBoostingClassifier\n",
        "from xgboost import XGBClassifier\n",
        "from sklearn.linear_model import LogisticRegression, RidgeClassifier\n",
        "\n",
        "for model in [RandomForestClassifier(n_estimators=10),\n",
        "              GradientBoostingClassifier(),\n",
        "              XGBClassifier(),\n",
        "              LogisticRegression(solver='lbfgs', multi_class='auto'),\n",
        "              RidgeClassifier(),\n",
        "              KNeighborsClassifier()]:\n",
        "    model.fit(X_train, y_train)\n",
        "    print(f'{model.__class__.__name__} holdout accuracy:',\n",
        "          model.score(X_test,y_test))"
      ],
      "execution_count": 8,
      "outputs": [
        {
          "output_type": "stream",
          "text": [
            "RandomForestClassifier holdout accuracy: 0.8\n",
            "GradientBoostingClassifier holdout accuracy: 0.8\n",
            "XGBClassifier holdout accuracy: 0.85\n",
            "LogisticRegression holdout accuracy: 0.8\n",
            "RidgeClassifier holdout accuracy: 0.6\n",
            "KNeighborsClassifier holdout accuracy: 0.85\n"
          ],
          "name": "stdout"
        }
      ]
    },
    {
      "metadata": {
        "slideshow": {
          "slide_type": "slide"
        },
        "id": "zX2PE9XI_yHG",
        "colab_type": "text"
      },
      "cell_type": "markdown",
      "source": [
        "##### Cross-validation\n",
        "* `sklearn` provides a `cross_val_score` to test the accuracy of an estimator across multiple folds painting a truer picture of an estimators' efficacy than a simple train/test split.\n",
        "* With `cross_val_score`, we don't really need to provide separate train and test sets.  Though, with enough data, it is sometimes instructive to have train/test and holdout "
      ]
    },
    {
      "metadata": {
        "slideshow": {
          "slide_type": "fragment"
        },
        "id": "CKOLquVp_yHH",
        "colab_type": "code",
        "colab": {
          "base_uri": "https://localhost:8080/",
          "height": 34
        },
        "outputId": "9ecbc8e6-255d-4714-b5b9-9a08a2c6b111"
      },
      "cell_type": "code",
      "source": [
        "from sklearn.model_selection import cross_val_score\n",
        "import numpy as np\n",
        "\n",
        "knn = KNeighborsClassifier()\n",
        "np.mean(cross_val_score(knn, X, y, cv=5))"
      ],
      "execution_count": 9,
      "outputs": [
        {
          "output_type": "execute_result",
          "data": {
            "text/plain": [
              "0.8333333333333334"
            ]
          },
          "metadata": {
            "tags": []
          },
          "execution_count": 9
        }
      ]
    },
    {
      "metadata": {
        "slideshow": {
          "slide_type": "slide"
        },
        "id": "Xerr17_w_yHM",
        "colab_type": "text"
      },
      "cell_type": "markdown",
      "source": [
        "##### Improving model accuracy with GridSearchCV\n",
        "\n",
        "With `GridSearchCV`, we can feed a hyperparameter grid into our estimator to determine an 'optimal' set of hyperparameters to use for our particular business problem.  `GridSearchCV` itself is an estimator and so it has the usual `'fit()` and `predict()` methods any other classifier would.\n",
        "\n",
        "At a minimum, parameterizing the GridSearchCV estimator we need to specify:\n",
        "1. The estimator we want to use\n",
        "2. The hyperparameter searchspace as a dictionary\n",
        "\n",
        "Optionally, we can also specify:\n",
        "1. The number of folds to use"
      ]
    },
    {
      "metadata": {
        "slideshow": {
          "slide_type": "slide"
        },
        "id": "b4_BRRaX_yHN",
        "colab_type": "code",
        "colab": {
          "base_uri": "https://localhost:8080/",
          "height": 85
        },
        "outputId": "0c9d7bde-b5b8-43ca-c036-afce0203fec0"
      },
      "cell_type": "code",
      "source": [
        "from sklearn.model_selection import GridSearchCV\n",
        "param_grid=dict(n_neighbors=[1,3,5,7,9,11], p=[1,2,3,4,5,6])\n",
        "grid = GridSearchCV(knn, param_grid, cv=5)\n",
        "grid.fit(X, y)\n",
        "print(f'Best Score: {grid.best_score_}')\n",
        "grid.best_estimator_"
      ],
      "execution_count": 10,
      "outputs": [
        {
          "output_type": "stream",
          "text": [
            "Best Score: 0.8666666666666667\n"
          ],
          "name": "stdout"
        },
        {
          "output_type": "execute_result",
          "data": {
            "text/plain": [
              "KNeighborsClassifier(algorithm='auto', leaf_size=30, metric='minkowski',\n",
              "           metric_params=None, n_jobs=None, n_neighbors=3, p=3,\n",
              "           weights='uniform')"
            ]
          },
          "metadata": {
            "tags": []
          },
          "execution_count": 10
        }
      ]
    },
    {
      "metadata": {
        "slideshow": {
          "slide_type": "slide"
        },
        "id": "zqlufmoS_yHT",
        "colab_type": "text"
      },
      "cell_type": "markdown",
      "source": [
        "Holding `p=3` constant, a visual inspection of the cross-validated scores shows support for `n_neighbors=3`"
      ]
    },
    {
      "metadata": {
        "slideshow": {
          "slide_type": "fragment"
        },
        "id": "kxvR41I5_yHU",
        "colab_type": "code",
        "colab": {
          "base_uri": "https://localhost:8080/",
          "height": 410
        },
        "outputId": "6d5fbedb-ee1a-42ce-da3d-60557d406df2"
      },
      "cell_type": "code",
      "source": [
        "import seaborn as sns\n",
        "sns.set_style('whitegrid')\n",
        "p_3 = grid.cv_results_['param_p']==3\n",
        "g = sns.pointplot(x=grid.cv_results_['param_n_neighbors'][p_3],\n",
        "                  y=grid.cv_results_['mean_test_score'][p_3]) \\\n",
        "       .set(xlabel='n_neighbors', ylabel='Accuracy', title='Gridsearch Results')"
      ],
      "execution_count": 11,
      "outputs": [
        {
          "output_type": "stream",
          "text": [
            "/usr/local/lib/python3.6/dist-packages/seaborn/categorical.py:1428: FutureWarning: remove_na is deprecated and is a private function. Do not use.\n",
            "  stat_data = remove_na(group_data)\n"
          ],
          "name": "stderr"
        },
        {
          "output_type": "display_data",
          "data": {
            "image/png": "[encoded data removed]",
            "text/plain": [
              "<Figure size 576x396 with 1 Axes>"
            ]
          },
          "metadata": {
            "tags": []
          }
        }
      ]
    },
    {
      "metadata": {
        "slideshow": {
          "slide_type": "slide"
        },
        "id": "4kNg8XEK_yHY",
        "colab_type": "text"
      },
      "cell_type": "markdown",
      "source": [
        "#### Confusion Matrix\n",
        "It looks like our classifier struggles more to distinguish between private passenger auto and workers' compensation."
      ]
    },
    {
      "metadata": {
        "slideshow": {
          "slide_type": "fragment"
        },
        "id": "dRjCHA-O_yHZ",
        "colab_type": "code",
        "colab": {
          "base_uri": "https://localhost:8080/",
          "height": 142
        },
        "outputId": "818fbeda-8485-4f59-a0c5-853d948730bc"
      },
      "cell_type": "code",
      "source": [
        "from sklearn.metrics import confusion_matrix\n",
        "pd.DataFrame(confusion_matrix(y, grid.best_estimator_.predict(X)),\n",
        "             index=le.classes_, columns=le.classes_)"
      ],
      "execution_count": 12,
      "outputs": [
        {
          "output_type": "execute_result",
          "data": {
            "text/html": [
              "<div>\n",
              "<style scoped>\n",
              "    .dataframe tbody tr th:only-of-type {\n",
              "        vertical-align: middle;\n",
              "    }\n",
              "\n",
              "    .dataframe tbody tr th {\n",
              "        vertical-align: top;\n",
              "    }\n",
              "\n",
              "    .dataframe thead th {\n",
              "        text-align: right;\n",
              "    }\n",
              "</style>\n",
              "<table border=\"1\" class=\"dataframe\">\n",
              "  <thead>\n",
              "    <tr style=\"text-align: right;\">\n",
              "      <th></th>\n",
              "      <th>medmal</th>\n",
              "      <th>ppauto</th>\n",
              "      <th>wkcomp</th>\n",
              "    </tr>\n",
              "  </thead>\n",
              "  <tbody>\n",
              "    <tr>\n",
              "      <th>medmal</th>\n",
              "      <td>19</td>\n",
              "      <td>1</td>\n",
              "      <td>0</td>\n",
              "    </tr>\n",
              "    <tr>\n",
              "      <th>ppauto</th>\n",
              "      <td>0</td>\n",
              "      <td>17</td>\n",
              "      <td>3</td>\n",
              "    </tr>\n",
              "    <tr>\n",
              "      <th>wkcomp</th>\n",
              "      <td>0</td>\n",
              "      <td>3</td>\n",
              "      <td>17</td>\n",
              "    </tr>\n",
              "  </tbody>\n",
              "</table>\n",
              "</div>"
            ],
            "text/plain": [
              "        medmal  ppauto  wkcomp\n",
              "medmal      19       1       0\n",
              "ppauto       0      17       3\n",
              "wkcomp       0       3      17"
            ]
          },
          "metadata": {
            "tags": []
          },
          "execution_count": 12
        }
      ]
    },
    {
      "metadata": {
        "slideshow": {
          "slide_type": "slide"
        },
        "id": "rgNCgS1D_yHe",
        "colab_type": "text"
      },
      "cell_type": "markdown",
      "source": [
        "##### Visual representation of the data\n",
        "By inspection (at least across the first three development ages), it is more difficult to distinguish between `wkcomp` and `ppauto` in line with where our classifiers are least accurate."
      ]
    },
    {
      "metadata": {
        "slideshow": {
          "slide_type": "fragment"
        },
        "id": "MXSTzR_t_yHe",
        "colab_type": "code",
        "colab": {
          "base_uri": "https://localhost:8080/",
          "height": 545
        },
        "outputId": "6aa0d70f-699c-422b-b862-af0421214ea3"
      },
      "cell_type": "code",
      "source": [
        "plot_data=ldf.reset_index().iloc[:,1:].set_index('LOB').T\n",
        "\n",
        "g = sns.pairplot(ldf.reset_index()[['LOB','1-2','2-3','3-4']], hue=\"LOB\")"
      ],
      "execution_count": 13,
      "outputs": [
        {
          "output_type": "display_data",
          "data": {
            "image/png": "[encoded data removed]",
            "text/plain": [
              "<Figure size 612.5x540 with 12 Axes>"
            ]
          },
          "metadata": {
            "tags": []
          }
        }
      ]
    },
    {
      "metadata": {
        "slideshow": {
          "slide_type": "slide"
        },
        "id": "u6R_8CHK_yHh",
        "colab_type": "text"
      },
      "cell_type": "markdown",
      "source": [
        "### More complex workflows with Pipeline\n",
        "\n",
        "The authors of `sklearn` recognize that composability of multiple estimators will be necessary to build the best models.  For example, you may want to cluster a feature before feeding it into a Regressor.\n",
        "\n",
        "The `Pipeline` is useful for chaining one or more transformers together.  Pipelines themselves are estimators and have `fit()`, `predict()`, and `score()` function and can be used with all of the `sklearn` funcitons used for regular estimators including but not limited to: `cross_val_score`, `confusion_martix`"
      ]
    },
    {
      "metadata": {
        "slideshow": {
          "slide_type": "slide"
        },
        "id": "v6ham2fV_yHi",
        "colab_type": "text"
      },
      "cell_type": "markdown",
      "source": [
        "Adding a PCA step with no hyper-parameter tuning actually reduces our cross validation accuracy score."
      ]
    },
    {
      "metadata": {
        "slideshow": {
          "slide_type": "fragment"
        },
        "id": "R3ODEpih_yHj",
        "colab_type": "code",
        "colab": {
          "base_uri": "https://localhost:8080/",
          "height": 34
        },
        "outputId": "a34fc85d-b98a-46eb-eab7-fed080091ef3"
      },
      "cell_type": "code",
      "source": [
        "from sklearn.pipeline import Pipeline\n",
        "from sklearn.decomposition import PCA\n",
        "\n",
        "steps=[('pca', PCA()),\n",
        "       ('knn',KNeighborsClassifier(n_neighbors=3, p=3))]\n",
        "\n",
        "pipe = Pipeline(steps=steps)\n",
        "np.mean(cross_val_score(pipe, X, y,cv=5))"
      ],
      "execution_count": 14,
      "outputs": [
        {
          "output_type": "execute_result",
          "data": {
            "text/plain": [
              "0.85"
            ]
          },
          "metadata": {
            "tags": []
          },
          "execution_count": 14
        }
      ]
    },
    {
      "metadata": {
        "slideshow": {
          "slide_type": "fragment"
        },
        "id": "WgAusNnu_yHm",
        "colab_type": "text"
      },
      "cell_type": "markdown",
      "source": [
        "##### Can we do better with parameter tuning?"
      ]
    },
    {
      "metadata": {
        "slideshow": {
          "slide_type": "slide"
        },
        "id": "Iojy1l8t_yHn",
        "colab_type": "text"
      },
      "cell_type": "markdown",
      "source": [
        "#### Pipelines and GridSearchCV\n",
        "Since a `Pipeline` is just another estimator `GridSearchCV` allows the hyperparameter space of all estimators in the pipeline to be gridsearched in one go.  \n",
        "\n",
        "To avoid hyperparameter name clashes between one estimator and another within a pipeline, `sklearn` uses a double underscore naming convention of the form {estimator_name}__{hyperparameter} for the keys of its parameter grid.\n"
      ]
    },
    {
      "metadata": {
        "slideshow": {
          "slide_type": "slide"
        },
        "id": "3YnEG9lU_yHo",
        "colab_type": "text"
      },
      "cell_type": "markdown",
      "source": [
        "We achieve parity with the highest accuracy of our original classifier.  In this instance, adding the Principle Components step did not yield any better results."
      ]
    },
    {
      "metadata": {
        "slideshow": {
          "slide_type": "fragment"
        },
        "id": "3BGyoj1e_yHr",
        "colab_type": "code",
        "colab": {
          "base_uri": "https://localhost:8080/",
          "height": 119
        },
        "outputId": "a5a0c91a-a297-4b88-c6f7-d002dd008e90"
      },
      "cell_type": "code",
      "source": [
        "param_grid=dict(knn__n_neighbors=[1,3,5,7,9,11],\n",
        "                knn__p=[1,2,3,4,5,6],\n",
        "                pca__n_components=[3, 5, 7, 9])\n",
        "\n",
        "pipe = Pipeline(steps=[('pca', PCA()),\n",
        "                       ('knn',KNeighborsClassifier())])\n",
        "\n",
        "grid = GridSearchCV(pipe, param_grid, cv=5, refit=True)\n",
        "grid.fit(X, y)\n",
        "\n",
        "print(f'Best Score: {grid.best_score_}')\n",
        "grid.best_estimator_"
      ],
      "execution_count": 15,
      "outputs": [
        {
          "output_type": "stream",
          "text": [
            "Best Score: 0.8666666666666667\n"
          ],
          "name": "stdout"
        },
        {
          "output_type": "execute_result",
          "data": {
            "text/plain": [
              "Pipeline(memory=None,\n",
              "     steps=[('pca', PCA(copy=True, iterated_power='auto', n_components=5, random_state=None,\n",
              "  svd_solver='auto', tol=0.0, whiten=False)), ('knn', KNeighborsClassifier(algorithm='auto', leaf_size=30, metric='minkowski',\n",
              "           metric_params=None, n_jobs=None, n_neighbors=3, p=6,\n",
              "           weights='uniform'))])"
            ]
          },
          "metadata": {
            "tags": []
          },
          "execution_count": 15
        }
      ]
    },
    {
      "metadata": {
        "slideshow": {
          "slide_type": "slide"
        },
        "id": "p_JfDnSh_yHv",
        "colab_type": "text"
      },
      "cell_type": "markdown",
      "source": [
        "### Scikit-Learn Recap\n",
        "\n",
        "* Almost everything is an Estimator.  They all have a `fit` method and depending on the nature of the estimator may also have a `predict`, `score` or `transform` method.\n",
        "* The API is standardized across estimator\n",
        "* A transformer is a special type of estimator that trasnforms data for another Estimator\n",
        "* Cross-validation with Grid Search helps in hyperparameter selection\n",
        "* Pipelines are useful for composing a chain of Estimators.\n",
        "* The documentation is a goldmine of information\n"
      ]
    },
    {
      "metadata": {
        "id": "gJG_zcEB_yHw",
        "colab_type": "code",
        "colab": {}
      },
      "cell_type": "code",
      "source": [
        ""
      ],
      "execution_count": 0,
      "outputs": []
    }
  ]
}